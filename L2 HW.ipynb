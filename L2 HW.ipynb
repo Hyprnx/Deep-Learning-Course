{
 "cells": [
  {
   "cell_type": "code",
   "source": "import pandas as pd\nimport numpy as np\nfrom sklearn.linear_model import LogisticRegression\nimport matplotlib.pyplot as plt",
   "metadata": {
    "tags": [],
    "cell_id": "ed4ce287-be94-454b-8ca2-1d8fbfb92837",
    "deepnote_to_be_reexecuted": false,
    "source_hash": "d0474fd",
    "execution_start": 1661079653583,
    "execution_millis": 4843,
    "deepnote_cell_type": "code",
    "deepnote_cell_height": 130
   },
   "execution_count": 1,
   "outputs": []
  },
  {
   "cell_type": "code",
   "source": "data_path = '/datasets/deep-learning-dseb-sem-7/Colab_workspaces/data/Deep Learning NEU/dataset.csv'\ndata = pd.read_csv(data_path)\ndata.rename(columns={\"Lương\": \"Salary\", \"Thời gian làm việc\": \"WorkTime\", \"Cho vay\":\"Status\" }, inplace=True)\ndata",
   "metadata": {
    "cell_id": "697cb1c9857a42cf9ac174de4f680569",
    "tags": [],
    "deepnote_to_be_reexecuted": false,
    "source_hash": "ec8f5250",
    "execution_start": 1661079658436,
    "execution_millis": 752,
    "deepnote_cell_type": "code",
    "deepnote_cell_height": 649
   },
   "execution_count": 2,
   "outputs": [
    {
     "output_type": "execute_result",
     "execution_count": 2,
     "data": {
      "application/vnd.deepnote.dataframe.v3+json": {
       "column_count": 3,
       "row_count": 20,
       "columns": [
        {
         "name": "Salary",
         "dtype": "int64",
         "stats": {
          "unique_count": 7,
          "nan_count": 0,
          "min": "4",
          "max": "10",
          "histogram": [
           {
            "bin_start": 4,
            "bin_end": 4.6,
            "count": 4
           },
           {
            "bin_start": 4.6,
            "bin_end": 5.2,
            "count": 4
           },
           {
            "bin_start": 5.2,
            "bin_end": 5.8,
            "count": 0
           },
           {
            "bin_start": 5.8,
            "bin_end": 6.4,
            "count": 2
           },
           {
            "bin_start": 6.4,
            "bin_end": 7,
            "count": 0
           },
           {
            "bin_start": 7,
            "bin_end": 7.6,
            "count": 4
           },
           {
            "bin_start": 7.6,
            "bin_end": 8.2,
            "count": 4
           },
           {
            "bin_start": 8.2,
            "bin_end": 8.8,
            "count": 0
           },
           {
            "bin_start": 8.8,
            "bin_end": 9.399999999999999,
            "count": 1
           },
           {
            "bin_start": 9.399999999999999,
            "bin_end": 10,
            "count": 1
           }
          ]
         }
        },
        {
         "name": "WorkTime",
         "dtype": "float64",
         "stats": {
          "unique_count": 11,
          "nan_count": 0,
          "min": "0.1",
          "max": "3.0",
          "histogram": [
           {
            "bin_start": 0.1,
            "bin_end": 0.39,
            "count": 6
           },
           {
            "bin_start": 0.39,
            "bin_end": 0.6799999999999999,
            "count": 2
           },
           {
            "bin_start": 0.6799999999999999,
            "bin_end": 0.9699999999999999,
            "count": 1
           },
           {
            "bin_start": 0.9699999999999999,
            "bin_end": 1.26,
            "count": 5
           },
           {
            "bin_start": 1.26,
            "bin_end": 1.55,
            "count": 0
           },
           {
            "bin_start": 1.55,
            "bin_end": 1.8399999999999999,
            "count": 1
           },
           {
            "bin_start": 1.8399999999999999,
            "bin_end": 2.13,
            "count": 2
           },
           {
            "bin_start": 2.13,
            "bin_end": 2.42,
            "count": 0
           },
           {
            "bin_start": 2.42,
            "bin_end": 2.71,
            "count": 2
           },
           {
            "bin_start": 2.71,
            "bin_end": 3,
            "count": 1
           }
          ]
         }
        },
        {
         "name": "Status",
         "dtype": "int64",
         "stats": {
          "unique_count": 2,
          "nan_count": 0,
          "min": "0",
          "max": "1",
          "histogram": [
           {
            "bin_start": 0,
            "bin_end": 0.1,
            "count": 10
           },
           {
            "bin_start": 0.1,
            "bin_end": 0.2,
            "count": 0
           },
           {
            "bin_start": 0.2,
            "bin_end": 0.30000000000000004,
            "count": 0
           },
           {
            "bin_start": 0.30000000000000004,
            "bin_end": 0.4,
            "count": 0
           },
           {
            "bin_start": 0.4,
            "bin_end": 0.5,
            "count": 0
           },
           {
            "bin_start": 0.5,
            "bin_end": 0.6000000000000001,
            "count": 0
           },
           {
            "bin_start": 0.6000000000000001,
            "bin_end": 0.7000000000000001,
            "count": 0
           },
           {
            "bin_start": 0.7000000000000001,
            "bin_end": 0.8,
            "count": 0
           },
           {
            "bin_start": 0.8,
            "bin_end": 0.9,
            "count": 0
           },
           {
            "bin_start": 0.9,
            "bin_end": 1,
            "count": 10
           }
          ]
         }
        },
        {
         "name": "_deepnote_index_column",
         "dtype": "int64"
        }
       ],
       "rows": [
        {
         "Salary": 10,
         "WorkTime": 1,
         "Status": 1,
         "_deepnote_index_column": 0
        },
        {
         "Salary": 5,
         "WorkTime": 2,
         "Status": 1,
         "_deepnote_index_column": 1
        },
        {
         "Salary": 6,
         "WorkTime": 1.8,
         "Status": 1,
         "_deepnote_index_column": 2
        },
        {
         "Salary": 7,
         "WorkTime": 1,
         "Status": 1,
         "_deepnote_index_column": 3
        },
        {
         "Salary": 8,
         "WorkTime": 2,
         "Status": 1,
         "_deepnote_index_column": 4
        },
        {
         "Salary": 9,
         "WorkTime": 0.5,
         "Status": 1,
         "_deepnote_index_column": 5
        },
        {
         "Salary": 4,
         "WorkTime": 3,
         "Status": 1,
         "_deepnote_index_column": 6
        },
        {
         "Salary": 5,
         "WorkTime": 2.5,
         "Status": 1,
         "_deepnote_index_column": 7
        },
        {
         "Salary": 8,
         "WorkTime": 1,
         "Status": 1,
         "_deepnote_index_column": 8
        },
        {
         "Salary": 4,
         "WorkTime": 2.5,
         "Status": 1,
         "_deepnote_index_column": 9
        }
       ]
      },
      "text/plain": "    Salary  WorkTime  Status\n0       10      1.00       1\n1        5      2.00       1\n2        6      1.80       1\n3        7      1.00       1\n4        8      2.00       1\n5        9      0.50       1\n6        4      3.00       1\n7        5      2.50       1\n8        8      1.00       1\n9        4      2.50       1\n10       8      0.10       0\n11       7      0.15       0\n12       4      1.00       0\n13       5      0.80       0\n14       7      0.30       0\n15       4      1.00       0\n16       5      0.50       0\n17       6      0.30       0\n18       7      0.20       0\n19       8      0.15       0",
      "text/html": "<div>\n<style scoped>\n    .dataframe tbody tr th:only-of-type {\n        vertical-align: middle;\n    }\n\n    .dataframe tbody tr th {\n        vertical-align: top;\n    }\n\n    .dataframe thead th {\n        text-align: right;\n    }\n</style>\n<table border=\"1\" class=\"dataframe\">\n  <thead>\n    <tr style=\"text-align: right;\">\n      <th></th>\n      <th>Salary</th>\n      <th>WorkTime</th>\n      <th>Status</th>\n    </tr>\n  </thead>\n  <tbody>\n    <tr>\n      <th>0</th>\n      <td>10</td>\n      <td>1.00</td>\n      <td>1</td>\n    </tr>\n    <tr>\n      <th>1</th>\n      <td>5</td>\n      <td>2.00</td>\n      <td>1</td>\n    </tr>\n    <tr>\n      <th>2</th>\n      <td>6</td>\n      <td>1.80</td>\n      <td>1</td>\n    </tr>\n    <tr>\n      <th>3</th>\n      <td>7</td>\n      <td>1.00</td>\n      <td>1</td>\n    </tr>\n    <tr>\n      <th>4</th>\n      <td>8</td>\n      <td>2.00</td>\n      <td>1</td>\n    </tr>\n    <tr>\n      <th>5</th>\n      <td>9</td>\n      <td>0.50</td>\n      <td>1</td>\n    </tr>\n    <tr>\n      <th>6</th>\n      <td>4</td>\n      <td>3.00</td>\n      <td>1</td>\n    </tr>\n    <tr>\n      <th>7</th>\n      <td>5</td>\n      <td>2.50</td>\n      <td>1</td>\n    </tr>\n    <tr>\n      <th>8</th>\n      <td>8</td>\n      <td>1.00</td>\n      <td>1</td>\n    </tr>\n    <tr>\n      <th>9</th>\n      <td>4</td>\n      <td>2.50</td>\n      <td>1</td>\n    </tr>\n    <tr>\n      <th>10</th>\n      <td>8</td>\n      <td>0.10</td>\n      <td>0</td>\n    </tr>\n    <tr>\n      <th>11</th>\n      <td>7</td>\n      <td>0.15</td>\n      <td>0</td>\n    </tr>\n    <tr>\n      <th>12</th>\n      <td>4</td>\n      <td>1.00</td>\n      <td>0</td>\n    </tr>\n    <tr>\n      <th>13</th>\n      <td>5</td>\n      <td>0.80</td>\n      <td>0</td>\n    </tr>\n    <tr>\n      <th>14</th>\n      <td>7</td>\n      <td>0.30</td>\n      <td>0</td>\n    </tr>\n    <tr>\n      <th>15</th>\n      <td>4</td>\n      <td>1.00</td>\n      <td>0</td>\n    </tr>\n    <tr>\n      <th>16</th>\n      <td>5</td>\n      <td>0.50</td>\n      <td>0</td>\n    </tr>\n    <tr>\n      <th>17</th>\n      <td>6</td>\n      <td>0.30</td>\n      <td>0</td>\n    </tr>\n    <tr>\n      <th>18</th>\n      <td>7</td>\n      <td>0.20</td>\n      <td>0</td>\n    </tr>\n    <tr>\n      <th>19</th>\n      <td>8</td>\n      <td>0.15</td>\n      <td>0</td>\n    </tr>\n  </tbody>\n</table>\n</div>"
     },
     "metadata": {}
    }
   ]
  },
  {
   "cell_type": "code",
   "metadata": {
    "cell_id": "25bba2ad757843f9aee57142ad7cc231",
    "deepnote_variable_name": "data",
    "deepnote_visualization_spec": {
     "$schema": "https://vega.github.io/schema/vega-lite/v4.json",
     "mark": {
      "type": "point",
      "tooltip": true
     },
     "height": 220,
     "autosize": {
      "type": "fit"
     },
     "data": {
      "name": "placeholder"
     },
     "encoding": {
      "x": {
       "field": "Salary",
       "type": "quantitative",
       "sort": null,
       "scale": {
        "type": "linear",
        "zero": false
       },
       "axis": {
        "grid": false
       }
      },
      "y": {
       "field": "WorkTime",
       "type": "quantitative",
       "sort": null,
       "scale": {
        "type": "linear",
        "zero": false
       }
      },
      "color": {
       "field": "Status",
       "type": "quantitative",
       "sort": null,
       "scale": {
        "type": "linear",
        "zero": false
       }
      }
     }
    },
    "deepnote_to_be_reexecuted": false,
    "source_hash": "32748b5d",
    "execution_start": 1661079659156,
    "execution_millis": 724,
    "deepnote_cell_type": "visualization"
   },
   "outputs": [
    {
     "output_type": "execute_result",
     "execution_count": 3,
     "data": {
      "text/html": "\n<div id=\"altair-viz-39a243c41a324404a81375fcd3fbb855\"></div>\n<script type=\"text/javascript\">\n  (function(spec, embedOpt){\n    let outputDiv = document.currentScript.previousElementSibling;\n    if (outputDiv.id !== \"altair-viz-39a243c41a324404a81375fcd3fbb855\") {\n      outputDiv = document.getElementById(\"altair-viz-39a243c41a324404a81375fcd3fbb855\");\n    }\n    const paths = {\n      \"vega\": \"https://cdn.jsdelivr.net/npm//vega@5?noext\",\n      \"vega-lib\": \"https://cdn.jsdelivr.net/npm//vega-lib?noext\",\n      \"vega-lite\": \"https://cdn.jsdelivr.net/npm//vega-lite@4.8.1?noext\",\n      \"vega-embed\": \"https://cdn.jsdelivr.net/npm//vega-embed@6?noext\",\n    };\n\n    function loadScript(lib) {\n      return new Promise(function(resolve, reject) {\n        var s = document.createElement('script');\n        s.src = paths[lib];\n        s.async = true;\n        s.onload = () => resolve(paths[lib]);\n        s.onerror = () => reject(`Error loading script: ${paths[lib]}`);\n        document.getElementsByTagName(\"head\")[0].appendChild(s);\n      });\n    }\n\n    function showError(err) {\n      outputDiv.innerHTML = `<div class=\"error\" style=\"color:red;\">${err}</div>`;\n      throw err;\n    }\n\n    function displayChart(vegaEmbed) {\n      vegaEmbed(outputDiv, spec, embedOpt)\n        .catch(err => showError(`Javascript Error: ${err.message}<br>This usually means there's a typo in your chart specification. See the javascript console for the full traceback.`));\n    }\n\n    if(typeof define === \"function\" && define.amd) {\n      requirejs.config({paths});\n      require([\"vega-embed\"], displayChart, err => showError(`Error loading script: ${err.message}`));\n    } else if (typeof vegaEmbed === \"function\") {\n      displayChart(vegaEmbed);\n    } else {\n      loadScript(\"vega\")\n        .then(() => loadScript(\"vega-lite\"))\n        .then(() => loadScript(\"vega-embed\"))\n        .catch(showError)\n        .then(() => displayChart(vegaEmbed));\n    }\n  })({\"config\": {\"view\": {\"continuousWidth\": 400, \"continuousHeight\": 300}, \"area\": {\"fill\": \"#51C0E9\"}, \"axis\": {\"labelFont\": \"Inter, sans-serif\", \"labelFontSize\": 12, \"labelFontWeight\": \"normal\", \"labelLimit\": 60, \"labelOverlap\": \"greedy\", \"titleFont\": \"Inter, sans-serif\", \"titleFontSize\": 12, \"titleFontWeight\": \"bold\"}, \"background\": \"#ffffff\", \"legend\": {\"labelFont\": \"Inter, sans-serif\", \"labelFontSize\": 12, \"titleFont\": \"Inter, sans-serif\", \"titleFontSize\": 12, \"titleFontWeight\": \"bold\"}, \"line\": {\"stroke\": \"#51C0E9\", \"strokeWidth\": 2}, \"rect\": {\"fill\": \"#51C0E9\"}, \"title\": {\"anchor\": \"start\", \"color\": \"#000000\", \"font\": \"Inter, sans-serif\", \"fontSize\": 22, \"fontWeight\": \"normal\"}}, \"data\": {\"name\": \"data-37650adb963eef348e01444e0d9ace0e\"}, \"mark\": {\"type\": \"point\", \"tooltip\": true}, \"autosize\": {\"type\": \"fit\"}, \"encoding\": {\"color\": {\"type\": \"quantitative\", \"field\": \"Status\", \"scale\": {\"type\": \"linear\", \"zero\": false}, \"sort\": null}, \"x\": {\"type\": \"quantitative\", \"axis\": {\"grid\": false}, \"field\": \"Salary\", \"scale\": {\"type\": \"linear\", \"zero\": false}, \"sort\": null}, \"y\": {\"type\": \"quantitative\", \"field\": \"WorkTime\", \"scale\": {\"type\": \"linear\", \"zero\": false}, \"sort\": null}}, \"height\": 300, \"width\": \"container\", \"$schema\": \"https://vega.github.io/schema/vega-lite/v4.json\", \"datasets\": {\"data-37650adb963eef348e01444e0d9ace0e\": [{\"Salary\": 10, \"WorkTime\": 1.0, \"Status\": 1}, {\"Salary\": 5, \"WorkTime\": 2.0, \"Status\": 1}, {\"Salary\": 6, \"WorkTime\": 1.8, \"Status\": 1}, {\"Salary\": 7, \"WorkTime\": 1.0, \"Status\": 1}, {\"Salary\": 8, \"WorkTime\": 2.0, \"Status\": 1}, {\"Salary\": 9, \"WorkTime\": 0.5, \"Status\": 1}, {\"Salary\": 4, \"WorkTime\": 3.0, \"Status\": 1}, {\"Salary\": 5, \"WorkTime\": 2.5, \"Status\": 1}, {\"Salary\": 8, \"WorkTime\": 1.0, \"Status\": 1}, {\"Salary\": 4, \"WorkTime\": 2.5, \"Status\": 1}, {\"Salary\": 8, \"WorkTime\": 0.1, \"Status\": 0}, {\"Salary\": 7, \"WorkTime\": 0.15, \"Status\": 0}, {\"Salary\": 4, \"WorkTime\": 1.0, \"Status\": 0}, {\"Salary\": 5, \"WorkTime\": 0.8, \"Status\": 0}, {\"Salary\": 7, \"WorkTime\": 0.3, \"Status\": 0}, {\"Salary\": 4, \"WorkTime\": 1.0, \"Status\": 0}, {\"Salary\": 5, \"WorkTime\": 0.5, \"Status\": 0}, {\"Salary\": 6, \"WorkTime\": 0.3, \"Status\": 0}, {\"Salary\": 7, \"WorkTime\": 0.2, \"Status\": 0}, {\"Salary\": 8, \"WorkTime\": 0.15, \"Status\": 0}]}}, {\"actions\": false, \"mode\": \"vega-lite\"});\n</script>",
      "text/plain": "alt.Chart(...)"
     },
     "metadata": {}
    }
   ],
   "source": "_deepnote_run_altair(data, \"\"\"{\"$schema\":\"https://vega.github.io/schema/vega-lite/v4.json\",\"mark\":{\"type\":\"point\",\"tooltip\":true},\"height\":220,\"autosize\":{\"type\":\"fit\"},\"data\":{\"name\":\"placeholder\"},\"encoding\":{\"x\":{\"field\":\"Salary\",\"type\":\"quantitative\",\"sort\":null,\"scale\":{\"type\":\"linear\",\"zero\":false},\"axis\":{\"grid\":false}},\"y\":{\"field\":\"WorkTime\",\"type\":\"quantitative\",\"sort\":null,\"scale\":{\"type\":\"linear\",\"zero\":false}},\"color\":{\"field\":\"Status\",\"type\":\"quantitative\",\"sort\":null,\"scale\":{\"type\":\"linear\",\"zero\":false}}}}\"\"\")",
   "execution_count": 3
  },
  {
   "cell_type": "code",
   "source": "X = data.drop(['Status'], inplace=False, axis=1)\ny = np.array(data[['Status']]).reshape(len(y),)",
   "metadata": {
    "cell_id": "a3119334651b450696ca2741695852c9",
    "tags": [],
    "deepnote_to_be_reexecuted": false,
    "source_hash": "96691f87",
    "execution_start": 1661082157258,
    "execution_millis": 23,
    "deepnote_cell_type": "code",
    "deepnote_cell_height": 94,
    "deepnote_output_heights": [
     610
    ]
   },
   "outputs": [],
   "execution_count": 98
  },
  {
   "cell_type": "code",
   "source": "def process_x(data):\n    ones = np.ones(data.shape[0])\n    X = np.column_stack((ones, data))\n    return np.array(data)",
   "metadata": {
    "cell_id": "fa7b7a261c6246fca52ebb397c2032e2",
    "tags": [],
    "deepnote_to_be_reexecuted": false,
    "source_hash": "e5a44d01",
    "execution_start": 1661082158222,
    "execution_millis": 1,
    "deepnote_cell_type": "code",
    "deepnote_cell_height": 130
   },
   "outputs": [],
   "execution_count": 99
  },
  {
   "cell_type": "code",
   "source": "X = process_x(X)",
   "metadata": {
    "cell_id": "b7dc8316d2ad4417a692b9be0af71519",
    "tags": [],
    "deepnote_to_be_reexecuted": false,
    "source_hash": "ab330f78",
    "execution_start": 1661082158663,
    "execution_millis": 2,
    "deepnote_cell_type": "code",
    "deepnote_cell_height": 76,
    "deepnote_output_heights": [
     20
    ]
   },
   "outputs": [],
   "execution_count": 100
  },
  {
   "cell_type": "code",
   "source": "X",
   "metadata": {
    "cell_id": "05ca5fe2e5254d078c299953116291a1",
    "tags": [],
    "deepnote_to_be_reexecuted": false,
    "source_hash": "b2696ff6",
    "execution_start": 1661082159763,
    "execution_millis": 15,
    "deepnote_cell_type": "code",
    "deepnote_cell_height": 477,
    "deepnote_output_heights": [
     385
    ]
   },
   "outputs": [
    {
     "output_type": "execute_result",
     "execution_count": 101,
     "data": {
      "text/plain": "array([[10.  ,  1.  ],\n       [ 5.  ,  2.  ],\n       [ 6.  ,  1.8 ],\n       [ 7.  ,  1.  ],\n       [ 8.  ,  2.  ],\n       [ 9.  ,  0.5 ],\n       [ 4.  ,  3.  ],\n       [ 5.  ,  2.5 ],\n       [ 8.  ,  1.  ],\n       [ 4.  ,  2.5 ],\n       [ 8.  ,  0.1 ],\n       [ 7.  ,  0.15],\n       [ 4.  ,  1.  ],\n       [ 5.  ,  0.8 ],\n       [ 7.  ,  0.3 ],\n       [ 4.  ,  1.  ],\n       [ 5.  ,  0.5 ],\n       [ 6.  ,  0.3 ],\n       [ 7.  ,  0.2 ],\n       [ 8.  ,  0.15]])"
     },
     "metadata": {}
    }
   ],
   "execution_count": 101
  },
  {
   "cell_type": "code",
   "source": "y",
   "metadata": {
    "cell_id": "7ef9a1776ce94690931059da4b11b590",
    "tags": [],
    "deepnote_to_be_reexecuted": false,
    "source_hash": "ce04b77e",
    "execution_start": 1661082159938,
    "execution_millis": 761,
    "deepnote_cell_type": "code",
    "deepnote_cell_height": 112,
    "deepnote_output_heights": [
     20
    ]
   },
   "outputs": [
    {
     "output_type": "execute_result",
     "execution_count": 102,
     "data": {
      "text/plain": "array([1, 1, 1, 1, 1, 1, 1, 1, 1, 1, 0, 0, 0, 0, 0, 0, 0, 0, 0, 0])"
     },
     "metadata": {}
    }
   ],
   "execution_count": 102
  },
  {
   "cell_type": "code",
   "source": "def sigmoid(x):\n    return 1 / (1 + np.e**-x)\n\n\ndef calc_errors(y_hats, ys, eps=1e-10):\n    def calc_error(y_hat, y, eps=eps):\n        error = - y * np.log(y_hat + eps) - (1 - y) * np.log(1 - y_hat + eps)\n        return error\n\n    error = np.mean([calc_error(y_hat, y) for y_hat, y in zip(y_hats, ys)])\n    return error",
   "metadata": {
    "cell_id": "5d2a75ddd266445ba73202b5f5f5d170",
    "tags": [],
    "deepnote_to_be_reexecuted": false,
    "source_hash": "1a0bb5b3",
    "execution_start": 1661082162524,
    "execution_millis": 14,
    "deepnote_cell_type": "code",
    "deepnote_cell_height": 256
   },
   "outputs": [],
   "execution_count": 103
  },
  {
   "cell_type": "code",
   "source": "print(calc_errors((0, 1), (0,1)))\ntemp = -150\nprint(f'sigmoid {temp} = {sigmoid(temp)}')",
   "metadata": {
    "cell_id": "d664d61b32304724a617eae47c74552e",
    "tags": [],
    "deepnote_to_be_reexecuted": false,
    "source_hash": "2ff1a446",
    "execution_start": 1661082163112,
    "execution_millis": 437,
    "deepnote_cell_type": "code",
    "deepnote_cell_height": 163.39999389648438
   },
   "outputs": [
    {
     "name": "stdout",
     "text": "-1.000000082690371e-10\nsigmoid -150 = 7.175095973164468e-66\n",
     "output_type": "stream"
    }
   ],
   "execution_count": 104
  },
  {
   "cell_type": "code",
   "source": "import random\n\ndef predict(pred_w0, pred_w1, pred_b, x):\n    pred_val = sigmoid(pred_w0 * x[0] + pred_w1 * x[1] + pred_b)\n    pred_class = 1 if pred_val >= 0.5 else 0\n    return pred_val, pred_class\n\n\ndef predict_batch(pred_w0, pred_w1, pred_b, xs):\n    pred_vals, pred_classes = map(np.array, zip(*[predict(pred_w0, pred_w1, pred_b, x) for x in xs]))\n    return pred_vals, np.array(pred_classes)\n",
   "metadata": {
    "cell_id": "b5f5b9cfb4c34802b09f9731507dfb0f",
    "tags": [],
    "deepnote_to_be_reexecuted": false,
    "source_hash": "2c7f8485",
    "execution_start": 1661082445258,
    "execution_millis": 6,
    "deepnote_cell_type": "code",
    "deepnote_cell_height": 274
   },
   "outputs": [],
   "execution_count": 118
  },
  {
   "cell_type": "code",
   "source": "pred_w0 = np.random.normal()\npred_w1 = np.random.normal()\npred_b = np.random.normal()\n\n# pred_w0 = -0.3\n# pred_w1 = 0.1\n# pred_b = 1.6\n\nprint(pred_w0, pred_w1, pred_b)\n\ny_hats, c_hats = predict_batch(pred_w0, pred_w1, pred_b, X)\nfor i, j in zip(c_hats, y):\n    print(f'pred: {i}, true: {j}')\n\n\nprint(c_hats.shape)\nprint(y.shape)\nprint((c_hats == y).sum())",
   "metadata": {
    "cell_id": "36ad68039be944fc9e763abbaa33d6a2",
    "tags": [],
    "deepnote_to_be_reexecuted": false,
    "source_hash": "74e283f6",
    "execution_start": 1661082445968,
    "execution_millis": 12,
    "deepnote_cell_type": "code",
    "deepnote_cell_height": 877.7999877929688,
    "deepnote_output_heights": [
     462,
     443
    ]
   },
   "outputs": [
    {
     "name": "stdout",
     "text": "-0.3 0.1 1.6\npred: 0, true: 1\npred: 1, true: 1\npred: 0, true: 1\npred: 0, true: 1\npred: 0, true: 1\npred: 0, true: 1\npred: 1, true: 1\npred: 1, true: 1\npred: 0, true: 1\npred: 1, true: 1\npred: 0, true: 0\npred: 0, true: 0\npred: 1, true: 0\npred: 1, true: 0\npred: 0, true: 0\npred: 1, true: 0\npred: 1, true: 0\npred: 0, true: 0\npred: 0, true: 0\npred: 0, true: 0\n(20,)\n(20,)\n10\n",
     "output_type": "stream"
    }
   ],
   "execution_count": 119
  },
  {
   "cell_type": "code",
   "source": "def gradient_step(pred_w0, pred_w1, pred_b, X, Ys, eta=0.1):    \n    N = len(X)\n    grad_w0 = 0\n    grad_w1 = 0\n    grad_b = 0\n    \n    for x, target in zip(X, Ys):\n        y_hat, _ = predict(pred_w0, pred_w1, pred_b, x)\n        dedz = y_hat - target\n        dw0 = x[0]\n        dw1 = x[1]\n        grad_w0 += (1/N) * dedz * dw0 \n        grad_w1 += (1/N) * dedz * dw1 \n        grad_b += (1/N) * dedz \n        \n    new_w0 = pred_w0 - (eta * grad_w0) \n    new_w1 = pred_w1 - (eta * grad_w1) \n    new_b = pred_b - (eta * grad_b) \n    \n    return new_w0, new_w1, new_b",
   "metadata": {
    "cell_id": "04ec4fef4c4b4c51b4adeb4433c579a2",
    "tags": [],
    "deepnote_to_be_reexecuted": false,
    "source_hash": "fce8314f",
    "execution_start": 1661082446809,
    "execution_millis": 10,
    "deepnote_cell_type": "code",
    "deepnote_cell_height": 418
   },
   "outputs": [],
   "execution_count": 120
  },
  {
   "cell_type": "code",
   "source": "errors = []\naccs = []\neta = 0.1\nepochs = 2000\n\npred_w0 = np.random.normal()\npred_w1 = np.random.normal()\npred_b = np.random.normal()\n\nfor i in range(epochs):\n    pred_w0, pred_w1, pred_b = gradient_step(pred_w0, pred_w1, pred_b, X, y, eta)\n    y_hats, c_hats = predict_batch(pred_w0, pred_w1, pred_b, X)\n    error = calc_errors(y_hats, y)\n    acc = np.equal(c_hats, y).sum()/len(c_hats)\n    errors.append(error)\n    accs.append(acc)\n    if i % 150 == 0:\n        print(i)\n        eta /= 1.1\n        print(f'lr updated to:{eta}')",
   "metadata": {
    "cell_id": "fb7c6601b0964859a388681a9adcfcf9",
    "tags": [],
    "deepnote_to_be_reexecuted": false,
    "source_hash": "45d6ab43",
    "execution_start": 1661083655863,
    "execution_millis": 857,
    "deepnote_cell_type": "code",
    "deepnote_cell_height": 994.5999755859375,
    "deepnote_output_heights": [
     443
    ]
   },
   "outputs": [
    {
     "name": "stdout",
     "text": "0\nlr updated to:0.09090909090909091\n150\nlr updated to:0.08264462809917356\n300\nlr updated to:0.07513148009015777\n450\nlr updated to:0.06830134553650706\n600\nlr updated to:0.0620921323059155\n750\nlr updated to:0.056447393005377725\n900\nlr updated to:0.051315811823070656\n1050\nlr updated to:0.04665073802097332\n1200\nlr updated to:0.04240976183724847\n1350\nlr updated to:0.03855432894295315\n1500\nlr updated to:0.03504938994813923\n1650\nlr updated to:0.03186308177103566\n1800\nlr updated to:0.02896643797366878\n1950\nlr updated to:0.02633312543060798\n",
     "output_type": "stream"
    }
   ],
   "execution_count": 149
  },
  {
   "cell_type": "code",
   "source": "plt.plot(errors)\nplt.ylabel('Error')\nplt.xlabel('step')\nplt.show()",
   "metadata": {
    "cell_id": "064e61c0ed8e4d83931b644a5b841141",
    "tags": [],
    "deepnote_to_be_reexecuted": false,
    "source_hash": "224abd68",
    "execution_start": 1661083656926,
    "execution_millis": 342,
    "deepnote_cell_type": "code",
    "deepnote_cell_height": 409,
    "deepnote_output_heights": [
     263
    ]
   },
   "outputs": [
    {
     "data": {
      "text/plain": "<Figure size 432x288 with 1 Axes>",
      "image/png": "[encoded data removed]"
     },
     "metadata": {
      "needs_background": "light",
      "image/png": {
       "width": 386,
       "height": 262
      }
     },
     "output_type": "display_data"
    }
   ],
   "execution_count": 150
  },
  {
   "cell_type": "code",
   "source": "plt.plot(accs)\nplt.ylabel('Accuracy')\nplt.xlabel('step')\nplt.show()",
   "metadata": {
    "cell_id": "abcdc64bff104697b126894c05b5e1a5",
    "tags": [],
    "deepnote_to_be_reexecuted": false,
    "source_hash": "70f38693",
    "execution_start": 1661083361061,
    "execution_millis": 556,
    "deepnote_cell_type": "code",
    "deepnote_cell_height": 409,
    "deepnote_output_heights": [
     263
    ]
   },
   "outputs": [
    {
     "data": {
      "text/plain": "<Figure size 432x288 with 1 Axes>",
      "image/png": "[encoded data removed]"
     },
     "metadata": {
      "needs_background": "light",
      "image/png": {
       "width": 392,
       "height": 262
      }
     },
     "output_type": "display_data"
    }
   ],
   "execution_count": 148
  },
  {
   "cell_type": "code",
   "source": "predict(pred_w0, pred_w1, pred_b, np.array([6,1]))",
   "metadata": {
    "cell_id": "9561dfc6511344e8a8d12b7db231c4de",
    "tags": [],
    "deepnote_to_be_reexecuted": false,
    "source_hash": "caaa4ac4",
    "execution_start": 1661083885188,
    "execution_millis": 2,
    "deepnote_cell_type": "code",
    "deepnote_cell_height": 112,
    "deepnote_output_heights": [
     20
    ]
   },
   "outputs": [
    {
     "output_type": "execute_result",
     "execution_count": 153,
     "data": {
      "text/plain": "(0.5565061079013099, 1)"
     },
     "metadata": {}
    }
   ],
   "execution_count": 153
  },
  {
   "cell_type": "code",
   "source": "data.columns",
   "metadata": {
    "cell_id": "2216c256c93c4658b0417ca14797d22f",
    "tags": [],
    "deepnote_to_be_reexecuted": false,
    "source_hash": "c8a8c27a",
    "execution_start": 1661084096044,
    "execution_millis": 29,
    "deepnote_cell_type": "code",
    "deepnote_cell_height": 112,
    "deepnote_output_heights": [
     20
    ]
   },
   "outputs": [
    {
     "output_type": "execute_result",
     "execution_count": 164,
     "data": {
      "text/plain": "Index(['Salary', 'WorkTime', 'Status'], dtype='object')"
     },
     "metadata": {}
    }
   ],
   "execution_count": 164
  },
  {
   "cell_type": "code",
   "source": "pred = pd.DataFrame([[6,1,2]], columns=['Salary', 'WorkTime', 'Status'])\ntemp_df = pd.concat([data, pred], ignore_index=True)\ntemp_df",
   "metadata": {
    "cell_id": "ab217a68eac447a9b384ee3f69c62225",
    "tags": [],
    "deepnote_to_be_reexecuted": false,
    "source_hash": "506d985d",
    "execution_start": 1661084420050,
    "execution_millis": 668,
    "deepnote_table_state": {
     "pageSize": 10,
     "pageIndex": 2,
     "filters": [],
     "sortBy": []
    },
    "deepnote_table_loading": false,
    "deepnote_cell_type": "code",
    "deepnote_cell_height": 262,
    "deepnote_output_heights": [
     610
    ]
   },
   "outputs": [
    {
     "output_type": "execute_result",
     "execution_count": 175,
     "data": {
      "application/vnd.deepnote.dataframe.v3+json": {
       "column_count": 3,
       "row_count": 21,
       "columns": [
        {
         "name": "Salary",
         "dtype": "int64",
         "stats": {
          "unique_count": 7,
          "nan_count": 0,
          "min": "4",
          "max": "10",
          "histogram": [
           {
            "bin_start": 4,
            "bin_end": 4.6,
            "count": 4
           },
           {
            "bin_start": 4.6,
            "bin_end": 5.2,
            "count": 4
           },
           {
            "bin_start": 5.2,
            "bin_end": 5.8,
            "count": 0
           },
           {
            "bin_start": 5.8,
            "bin_end": 6.4,
            "count": 3
           },
           {
            "bin_start": 6.4,
            "bin_end": 7,
            "count": 0
           },
           {
            "bin_start": 7,
            "bin_end": 7.6,
            "count": 4
           },
           {
            "bin_start": 7.6,
            "bin_end": 8.2,
            "count": 4
           },
           {
            "bin_start": 8.2,
            "bin_end": 8.8,
            "count": 0
           },
           {
            "bin_start": 8.8,
            "bin_end": 9.399999999999999,
            "count": 1
           },
           {
            "bin_start": 9.399999999999999,
            "bin_end": 10,
            "count": 1
           }
          ]
         }
        },
        {
         "name": "WorkTime",
         "dtype": "float64",
         "stats": {
          "unique_count": 11,
          "nan_count": 0,
          "min": "0.1",
          "max": "3.0",
          "histogram": [
           {
            "bin_start": 0.1,
            "bin_end": 0.39,
            "count": 6
           },
           {
            "bin_start": 0.39,
            "bin_end": 0.6799999999999999,
            "count": 2
           },
           {
            "bin_start": 0.6799999999999999,
            "bin_end": 0.9699999999999999,
            "count": 1
           },
           {
            "bin_start": 0.9699999999999999,
            "bin_end": 1.26,
            "count": 6
           },
           {
            "bin_start": 1.26,
            "bin_end": 1.55,
            "count": 0
           },
           {
            "bin_start": 1.55,
            "bin_end": 1.8399999999999999,
            "count": 1
           },
           {
            "bin_start": 1.8399999999999999,
            "bin_end": 2.13,
            "count": 2
           },
           {
            "bin_start": 2.13,
            "bin_end": 2.42,
            "count": 0
           },
           {
            "bin_start": 2.42,
            "bin_end": 2.71,
            "count": 2
           },
           {
            "bin_start": 2.71,
            "bin_end": 3,
            "count": 1
           }
          ]
         }
        },
        {
         "name": "Status",
         "dtype": "int64",
         "stats": {
          "unique_count": 3,
          "nan_count": 0,
          "min": "0",
          "max": "2",
          "histogram": [
           {
            "bin_start": 0,
            "bin_end": 0.2,
            "count": 10
           },
           {
            "bin_start": 0.2,
            "bin_end": 0.4,
            "count": 0
           },
           {
            "bin_start": 0.4,
            "bin_end": 0.6000000000000001,
            "count": 0
           },
           {
            "bin_start": 0.6000000000000001,
            "bin_end": 0.8,
            "count": 0
           },
           {
            "bin_start": 0.8,
            "bin_end": 1,
            "count": 0
           },
           {
            "bin_start": 1,
            "bin_end": 1.2000000000000002,
            "count": 10
           },
           {
            "bin_start": 1.2000000000000002,
            "bin_end": 1.4000000000000001,
            "count": 0
           },
           {
            "bin_start": 1.4000000000000001,
            "bin_end": 1.6,
            "count": 0
           },
           {
            "bin_start": 1.6,
            "bin_end": 1.8,
            "count": 0
           },
           {
            "bin_start": 1.8,
            "bin_end": 2,
            "count": 1
           }
          ]
         }
        },
        {
         "name": "_deepnote_index_column",
         "dtype": "int64"
        }
       ],
       "rows": [
        {
         "Salary": 6,
         "WorkTime": 1,
         "Status": 2,
         "_deepnote_index_column": 20
        }
       ]
      },
      "text/plain": "    Salary  WorkTime  Status\n0       10      1.00       1\n1        5      2.00       1\n2        6      1.80       1\n3        7      1.00       1\n4        8      2.00       1\n5        9      0.50       1\n6        4      3.00       1\n7        5      2.50       1\n8        8      1.00       1\n9        4      2.50       1\n10       8      0.10       0\n11       7      0.15       0\n12       4      1.00       0\n13       5      0.80       0\n14       7      0.30       0\n15       4      1.00       0\n16       5      0.50       0\n17       6      0.30       0\n18       7      0.20       0\n19       8      0.15       0\n20       6      1.00       2",
      "text/html": "<div>\n<style scoped>\n    .dataframe tbody tr th:only-of-type {\n        vertical-align: middle;\n    }\n\n    .dataframe tbody tr th {\n        vertical-align: top;\n    }\n\n    .dataframe thead th {\n        text-align: right;\n    }\n</style>\n<table border=\"1\" class=\"dataframe\">\n  <thead>\n    <tr style=\"text-align: right;\">\n      <th></th>\n      <th>Salary</th>\n      <th>WorkTime</th>\n      <th>Status</th>\n    </tr>\n  </thead>\n  <tbody>\n    <tr>\n      <th>0</th>\n      <td>10</td>\n      <td>1.00</td>\n      <td>1</td>\n    </tr>\n    <tr>\n      <th>1</th>\n      <td>5</td>\n      <td>2.00</td>\n      <td>1</td>\n    </tr>\n    <tr>\n      <th>2</th>\n      <td>6</td>\n      <td>1.80</td>\n      <td>1</td>\n    </tr>\n    <tr>\n      <th>3</th>\n      <td>7</td>\n      <td>1.00</td>\n      <td>1</td>\n    </tr>\n    <tr>\n      <th>4</th>\n      <td>8</td>\n      <td>2.00</td>\n      <td>1</td>\n    </tr>\n    <tr>\n      <th>5</th>\n      <td>9</td>\n      <td>0.50</td>\n      <td>1</td>\n    </tr>\n    <tr>\n      <th>6</th>\n      <td>4</td>\n      <td>3.00</td>\n      <td>1</td>\n    </tr>\n    <tr>\n      <th>7</th>\n      <td>5</td>\n      <td>2.50</td>\n      <td>1</td>\n    </tr>\n    <tr>\n      <th>8</th>\n      <td>8</td>\n      <td>1.00</td>\n      <td>1</td>\n    </tr>\n    <tr>\n      <th>9</th>\n      <td>4</td>\n      <td>2.50</td>\n      <td>1</td>\n    </tr>\n    <tr>\n      <th>10</th>\n      <td>8</td>\n      <td>0.10</td>\n      <td>0</td>\n    </tr>\n    <tr>\n      <th>11</th>\n      <td>7</td>\n      <td>0.15</td>\n      <td>0</td>\n    </tr>\n    <tr>\n      <th>12</th>\n      <td>4</td>\n      <td>1.00</td>\n      <td>0</td>\n    </tr>\n    <tr>\n      <th>13</th>\n      <td>5</td>\n      <td>0.80</td>\n      <td>0</td>\n    </tr>\n    <tr>\n      <th>14</th>\n      <td>7</td>\n      <td>0.30</td>\n      <td>0</td>\n    </tr>\n    <tr>\n      <th>15</th>\n      <td>4</td>\n      <td>1.00</td>\n      <td>0</td>\n    </tr>\n    <tr>\n      <th>16</th>\n      <td>5</td>\n      <td>0.50</td>\n      <td>0</td>\n    </tr>\n    <tr>\n      <th>17</th>\n      <td>6</td>\n      <td>0.30</td>\n      <td>0</td>\n    </tr>\n    <tr>\n      <th>18</th>\n      <td>7</td>\n      <td>0.20</td>\n      <td>0</td>\n    </tr>\n    <tr>\n      <th>19</th>\n      <td>8</td>\n      <td>0.15</td>\n      <td>0</td>\n    </tr>\n    <tr>\n      <th>20</th>\n      <td>6</td>\n      <td>1.00</td>\n      <td>2</td>\n    </tr>\n  </tbody>\n</table>\n</div>"
     },
     "metadata": {}
    }
   ],
   "execution_count": 175
  },
  {
   "cell_type": "code",
   "metadata": {
    "cell_id": "c4240f44d65a4c28b1de31ff1c46aaa4",
    "deepnote_variable_name": "temp_df",
    "deepnote_visualization_spec": {
     "$schema": "https://vega.github.io/schema/vega-lite/v4.json",
     "mark": {
      "type": "point",
      "tooltip": true
     },
     "height": 220,
     "autosize": {
      "type": "fit"
     },
     "data": {
      "name": "placeholder"
     },
     "encoding": {
      "x": {
       "field": "Salary",
       "type": "quantitative",
       "sort": null,
       "scale": {
        "type": "linear",
        "zero": false
       }
      },
      "y": {
       "field": "WorkTime",
       "type": "quantitative",
       "sort": null,
       "scale": {
        "type": "linear",
        "zero": false
       }
      },
      "color": {
       "field": "Status",
       "type": "quantitative",
       "sort": null,
       "scale": {
        "type": "linear",
        "zero": false
       }
      }
     }
    },
    "deepnote_to_be_reexecuted": false,
    "source_hash": "6b6ff991",
    "execution_start": 1661084428814,
    "execution_millis": 643,
    "deepnote_cell_type": "visualization"
   },
   "outputs": [
    {
     "output_type": "execute_result",
     "execution_count": 178,
     "data": {
      "text/html": "\n<div id=\"altair-viz-c86e736b48554460aea75c8b5308d274\"></div>\n<script type=\"text/javascript\">\n  (function(spec, embedOpt){\n    let outputDiv = document.currentScript.previousElementSibling;\n    if (outputDiv.id !== \"altair-viz-c86e736b48554460aea75c8b5308d274\") {\n      outputDiv = document.getElementById(\"altair-viz-c86e736b48554460aea75c8b5308d274\");\n    }\n    const paths = {\n      \"vega\": \"https://cdn.jsdelivr.net/npm//vega@5?noext\",\n      \"vega-lib\": \"https://cdn.jsdelivr.net/npm//vega-lib?noext\",\n      \"vega-lite\": \"https://cdn.jsdelivr.net/npm//vega-lite@4.8.1?noext\",\n      \"vega-embed\": \"https://cdn.jsdelivr.net/npm//vega-embed@6?noext\",\n    };\n\n    function loadScript(lib) {\n      return new Promise(function(resolve, reject) {\n        var s = document.createElement('script');\n        s.src = paths[lib];\n        s.async = true;\n        s.onload = () => resolve(paths[lib]);\n        s.onerror = () => reject(`Error loading script: ${paths[lib]}`);\n        document.getElementsByTagName(\"head\")[0].appendChild(s);\n      });\n    }\n\n    function showError(err) {\n      outputDiv.innerHTML = `<div class=\"error\" style=\"color:red;\">${err}</div>`;\n      throw err;\n    }\n\n    function displayChart(vegaEmbed) {\n      vegaEmbed(outputDiv, spec, embedOpt)\n        .catch(err => showError(`Javascript Error: ${err.message}<br>This usually means there's a typo in your chart specification. See the javascript console for the full traceback.`));\n    }\n\n    if(typeof define === \"function\" && define.amd) {\n      requirejs.config({paths});\n      require([\"vega-embed\"], displayChart, err => showError(`Error loading script: ${err.message}`));\n    } else if (typeof vegaEmbed === \"function\") {\n      displayChart(vegaEmbed);\n    } else {\n      loadScript(\"vega\")\n        .then(() => loadScript(\"vega-lite\"))\n        .then(() => loadScript(\"vega-embed\"))\n        .catch(showError)\n        .then(() => displayChart(vegaEmbed));\n    }\n  })({\"config\": {\"view\": {\"continuousWidth\": 400, \"continuousHeight\": 300}, \"area\": {\"fill\": \"#51C0E9\"}, \"axis\": {\"labelFont\": \"Inter, sans-serif\", \"labelFontSize\": 12, \"labelFontWeight\": \"normal\", \"labelLimit\": 60, \"labelOverlap\": \"greedy\", \"titleFont\": \"Inter, sans-serif\", \"titleFontSize\": 12, \"titleFontWeight\": \"bold\"}, \"background\": \"#ffffff\", \"legend\": {\"labelFont\": \"Inter, sans-serif\", \"labelFontSize\": 12, \"titleFont\": \"Inter, sans-serif\", \"titleFontSize\": 12, \"titleFontWeight\": \"bold\"}, \"line\": {\"stroke\": \"#51C0E9\", \"strokeWidth\": 2}, \"rect\": {\"fill\": \"#51C0E9\"}, \"title\": {\"anchor\": \"start\", \"color\": \"#000000\", \"font\": \"Inter, sans-serif\", \"fontSize\": 22, \"fontWeight\": \"normal\"}}, \"data\": {\"name\": \"data-29823123c587e1d237a0f325546723ae\"}, \"mark\": {\"type\": \"point\", \"tooltip\": true}, \"autosize\": {\"type\": \"fit\"}, \"encoding\": {\"color\": {\"type\": \"quantitative\", \"field\": \"Status\", \"scale\": {\"type\": \"linear\", \"zero\": false}, \"sort\": null}, \"x\": {\"type\": \"quantitative\", \"field\": \"Salary\", \"scale\": {\"type\": \"linear\", \"zero\": false}, \"sort\": null}, \"y\": {\"type\": \"quantitative\", \"field\": \"WorkTime\", \"scale\": {\"type\": \"linear\", \"zero\": false}, \"sort\": null}}, \"height\": 300, \"width\": \"container\", \"$schema\": \"https://vega.github.io/schema/vega-lite/v4.json\", \"datasets\": {\"data-29823123c587e1d237a0f325546723ae\": [{\"Salary\": 10, \"WorkTime\": 1.0, \"Status\": 1}, {\"Salary\": 5, \"WorkTime\": 2.0, \"Status\": 1}, {\"Salary\": 6, \"WorkTime\": 1.8, \"Status\": 1}, {\"Salary\": 7, \"WorkTime\": 1.0, \"Status\": 1}, {\"Salary\": 8, \"WorkTime\": 2.0, \"Status\": 1}, {\"Salary\": 9, \"WorkTime\": 0.5, \"Status\": 1}, {\"Salary\": 4, \"WorkTime\": 3.0, \"Status\": 1}, {\"Salary\": 5, \"WorkTime\": 2.5, \"Status\": 1}, {\"Salary\": 8, \"WorkTime\": 1.0, \"Status\": 1}, {\"Salary\": 4, \"WorkTime\": 2.5, \"Status\": 1}, {\"Salary\": 8, \"WorkTime\": 0.1, \"Status\": 0}, {\"Salary\": 7, \"WorkTime\": 0.15, \"Status\": 0}, {\"Salary\": 4, \"WorkTime\": 1.0, \"Status\": 0}, {\"Salary\": 5, \"WorkTime\": 0.8, \"Status\": 0}, {\"Salary\": 7, \"WorkTime\": 0.3, \"Status\": 0}, {\"Salary\": 4, \"WorkTime\": 1.0, \"Status\": 0}, {\"Salary\": 5, \"WorkTime\": 0.5, \"Status\": 0}, {\"Salary\": 6, \"WorkTime\": 0.3, \"Status\": 0}, {\"Salary\": 7, \"WorkTime\": 0.2, \"Status\": 0}, {\"Salary\": 8, \"WorkTime\": 0.15, \"Status\": 0}, {\"Salary\": 6, \"WorkTime\": 1.0, \"Status\": 2}]}}, {\"actions\": false, \"mode\": \"vega-lite\"});\n</script>",
      "text/plain": "alt.Chart(...)"
     },
     "metadata": {}
    }
   ],
   "execution_count": 178,
   "source": "_deepnote_run_altair(temp_df, \"\"\"{\"$schema\":\"https://vega.github.io/schema/vega-lite/v4.json\",\"mark\":{\"type\":\"point\",\"tooltip\":true},\"height\":220,\"autosize\":{\"type\":\"fit\"},\"data\":{\"name\":\"placeholder\"},\"encoding\":{\"x\":{\"field\":\"Salary\",\"type\":\"quantitative\",\"sort\":null,\"scale\":{\"type\":\"linear\",\"zero\":false}},\"y\":{\"field\":\"WorkTime\",\"type\":\"quantitative\",\"sort\":null,\"scale\":{\"type\":\"linear\",\"zero\":false}},\"color\":{\"field\":\"Status\",\"type\":\"quantitative\",\"sort\":null,\"scale\":{\"type\":\"linear\",\"zero\":false}}}}\"\"\")"
  },
  {
   "cell_type": "code",
   "source": "XOR = pd.DataFrame(np.array([[1,0,1],[0,1,1],[0,0,0],[1,1,0],],np.int32), columns=['x-axis', 'y-axis', 'bool'])\nXOR\n",
   "metadata": {
    "cell_id": "fca2a5d260e844c6b8e13401bb9bbd87",
    "tags": [],
    "deepnote_to_be_reexecuted": false,
    "source_hash": "b8459d83",
    "execution_start": 1661085289688,
    "execution_millis": 897,
    "deepnote_cell_type": "code",
    "deepnote_cell_height": 385
   },
   "outputs": [
    {
     "output_type": "execute_result",
     "execution_count": 245,
     "data": {
      "application/vnd.deepnote.dataframe.v3+json": {
       "column_count": 3,
       "row_count": 4,
       "columns": [
        {
         "name": "x-axis",
         "dtype": "int32",
         "stats": {
          "unique_count": 2,
          "nan_count": 0,
          "min": "0",
          "max": "1",
          "histogram": [
           {
            "bin_start": 0,
            "bin_end": 0.1,
            "count": 2
           },
           {
            "bin_start": 0.1,
            "bin_end": 0.2,
            "count": 0
           },
           {
            "bin_start": 0.2,
            "bin_end": 0.30000000000000004,
            "count": 0
           },
           {
            "bin_start": 0.30000000000000004,
            "bin_end": 0.4,
            "count": 0
           },
           {
            "bin_start": 0.4,
            "bin_end": 0.5,
            "count": 0
           },
           {
            "bin_start": 0.5,
            "bin_end": 0.6000000000000001,
            "count": 0
           },
           {
            "bin_start": 0.6000000000000001,
            "bin_end": 0.7000000000000001,
            "count": 0
           },
           {
            "bin_start": 0.7000000000000001,
            "bin_end": 0.8,
            "count": 0
           },
           {
            "bin_start": 0.8,
            "bin_end": 0.9,
            "count": 0
           },
           {
            "bin_start": 0.9,
            "bin_end": 1,
            "count": 2
           }
          ]
         }
        },
        {
         "name": "y-axis",
         "dtype": "int32",
         "stats": {
          "unique_count": 2,
          "nan_count": 0,
          "min": "0",
          "max": "1",
          "histogram": [
           {
            "bin_start": 0,
            "bin_end": 0.1,
            "count": 2
           },
           {
            "bin_start": 0.1,
            "bin_end": 0.2,
            "count": 0
           },
           {
            "bin_start": 0.2,
            "bin_end": 0.30000000000000004,
            "count": 0
           },
           {
            "bin_start": 0.30000000000000004,
            "bin_end": 0.4,
            "count": 0
           },
           {
            "bin_start": 0.4,
            "bin_end": 0.5,
            "count": 0
           },
           {
            "bin_start": 0.5,
            "bin_end": 0.6000000000000001,
            "count": 0
           },
           {
            "bin_start": 0.6000000000000001,
            "bin_end": 0.7000000000000001,
            "count": 0
           },
           {
            "bin_start": 0.7000000000000001,
            "bin_end": 0.8,
            "count": 0
           },
           {
            "bin_start": 0.8,
            "bin_end": 0.9,
            "count": 0
           },
           {
            "bin_start": 0.9,
            "bin_end": 1,
            "count": 2
           }
          ]
         }
        },
        {
         "name": "bool",
         "dtype": "int32",
         "stats": {
          "unique_count": 2,
          "nan_count": 0,
          "min": "0",
          "max": "1",
          "histogram": [
           {
            "bin_start": 0,
            "bin_end": 0.1,
            "count": 2
           },
           {
            "bin_start": 0.1,
            "bin_end": 0.2,
            "count": 0
           },
           {
            "bin_start": 0.2,
            "bin_end": 0.30000000000000004,
            "count": 0
           },
           {
            "bin_start": 0.30000000000000004,
            "bin_end": 0.4,
            "count": 0
           },
           {
            "bin_start": 0.4,
            "bin_end": 0.5,
            "count": 0
           },
           {
            "bin_start": 0.5,
            "bin_end": 0.6000000000000001,
            "count": 0
           },
           {
            "bin_start": 0.6000000000000001,
            "bin_end": 0.7000000000000001,
            "count": 0
           },
           {
            "bin_start": 0.7000000000000001,
            "bin_end": 0.8,
            "count": 0
           },
           {
            "bin_start": 0.8,
            "bin_end": 0.9,
            "count": 0
           },
           {
            "bin_start": 0.9,
            "bin_end": 1,
            "count": 2
           }
          ]
         }
        },
        {
         "name": "_deepnote_index_column",
         "dtype": "int64"
        }
       ],
       "rows": [
        {
         "x-axis": 1,
         "y-axis": 0,
         "bool": 1,
         "_deepnote_index_column": 0
        },
        {
         "x-axis": 0,
         "y-axis": 1,
         "bool": 1,
         "_deepnote_index_column": 1
        },
        {
         "x-axis": 0,
         "y-axis": 0,
         "bool": 0,
         "_deepnote_index_column": 2
        },
        {
         "x-axis": 1,
         "y-axis": 1,
         "bool": 0,
         "_deepnote_index_column": 3
        }
       ]
      },
      "text/plain": "   x-axis  y-axis  bool\n0       1       0     1\n1       0       1     1\n2       0       0     0\n3       1       1     0",
      "text/html": "<div>\n<style scoped>\n    .dataframe tbody tr th:only-of-type {\n        vertical-align: middle;\n    }\n\n    .dataframe tbody tr th {\n        vertical-align: top;\n    }\n\n    .dataframe thead th {\n        text-align: right;\n    }\n</style>\n<table border=\"1\" class=\"dataframe\">\n  <thead>\n    <tr style=\"text-align: right;\">\n      <th></th>\n      <th>x-axis</th>\n      <th>y-axis</th>\n      <th>bool</th>\n    </tr>\n  </thead>\n  <tbody>\n    <tr>\n      <th>0</th>\n      <td>1</td>\n      <td>0</td>\n      <td>1</td>\n    </tr>\n    <tr>\n      <th>1</th>\n      <td>0</td>\n      <td>1</td>\n      <td>1</td>\n    </tr>\n    <tr>\n      <th>2</th>\n      <td>0</td>\n      <td>0</td>\n      <td>0</td>\n    </tr>\n    <tr>\n      <th>3</th>\n      <td>1</td>\n      <td>1</td>\n      <td>0</td>\n    </tr>\n  </tbody>\n</table>\n</div>"
     },
     "metadata": {}
    }
   ],
   "execution_count": 245
  },
  {
   "cell_type": "code",
   "metadata": {
    "cell_id": "838452b848674a3794afef7080d0cd78",
    "deepnote_variable_name": "XOR",
    "deepnote_visualization_spec": {
     "$schema": "https://vega.github.io/schema/vega-lite/v4.json",
     "mark": {
      "type": "point",
      "tooltip": true
     },
     "height": 220,
     "autosize": {
      "type": "fit"
     },
     "data": {
      "name": "placeholder"
     },
     "encoding": {
      "x": {
       "field": "x-axis",
       "type": "quantitative",
       "sort": null,
       "scale": {
        "type": "linear",
        "zero": false
       }
      },
      "y": {
       "field": "y-axis",
       "type": "quantitative",
       "sort": null,
       "scale": {
        "type": "linear",
        "zero": false
       }
      },
      "color": {
       "field": "bool",
       "type": "quantitative",
       "sort": null,
       "scale": {
        "type": "linear",
        "zero": false
       }
      }
     }
    },
    "deepnote_to_be_reexecuted": false,
    "source_hash": "52212205",
    "execution_start": 1661085289877,
    "execution_millis": 743,
    "deepnote_cell_type": "visualization"
   },
   "outputs": [
    {
     "output_type": "execute_result",
     "execution_count": 246,
     "data": {
      "text/html": "\n<div id=\"altair-viz-e65560c97a374b4fb55b59aed6090a18\"></div>\n<script type=\"text/javascript\">\n  (function(spec, embedOpt){\n    let outputDiv = document.currentScript.previousElementSibling;\n    if (outputDiv.id !== \"altair-viz-e65560c97a374b4fb55b59aed6090a18\") {\n      outputDiv = document.getElementById(\"altair-viz-e65560c97a374b4fb55b59aed6090a18\");\n    }\n    const paths = {\n      \"vega\": \"https://cdn.jsdelivr.net/npm//vega@5?noext\",\n      \"vega-lib\": \"https://cdn.jsdelivr.net/npm//vega-lib?noext\",\n      \"vega-lite\": \"https://cdn.jsdelivr.net/npm//vega-lite@4.8.1?noext\",\n      \"vega-embed\": \"https://cdn.jsdelivr.net/npm//vega-embed@6?noext\",\n    };\n\n    function loadScript(lib) {\n      return new Promise(function(resolve, reject) {\n        var s = document.createElement('script');\n        s.src = paths[lib];\n        s.async = true;\n        s.onload = () => resolve(paths[lib]);\n        s.onerror = () => reject(`Error loading script: ${paths[lib]}`);\n        document.getElementsByTagName(\"head\")[0].appendChild(s);\n      });\n    }\n\n    function showError(err) {\n      outputDiv.innerHTML = `<div class=\"error\" style=\"color:red;\">${err}</div>`;\n      throw err;\n    }\n\n    function displayChart(vegaEmbed) {\n      vegaEmbed(outputDiv, spec, embedOpt)\n        .catch(err => showError(`Javascript Error: ${err.message}<br>This usually means there's a typo in your chart specification. See the javascript console for the full traceback.`));\n    }\n\n    if(typeof define === \"function\" && define.amd) {\n      requirejs.config({paths});\n      require([\"vega-embed\"], displayChart, err => showError(`Error loading script: ${err.message}`));\n    } else if (typeof vegaEmbed === \"function\") {\n      displayChart(vegaEmbed);\n    } else {\n      loadScript(\"vega\")\n        .then(() => loadScript(\"vega-lite\"))\n        .then(() => loadScript(\"vega-embed\"))\n        .catch(showError)\n        .then(() => displayChart(vegaEmbed));\n    }\n  })({\"config\": {\"view\": {\"continuousWidth\": 400, \"continuousHeight\": 300}, \"area\": {\"fill\": \"#51C0E9\"}, \"axis\": {\"labelFont\": \"Inter, sans-serif\", \"labelFontSize\": 12, \"labelFontWeight\": \"normal\", \"labelLimit\": 60, \"labelOverlap\": \"greedy\", \"titleFont\": \"Inter, sans-serif\", \"titleFontSize\": 12, \"titleFontWeight\": \"bold\"}, \"background\": \"#ffffff\", \"legend\": {\"labelFont\": \"Inter, sans-serif\", \"labelFontSize\": 12, \"titleFont\": \"Inter, sans-serif\", \"titleFontSize\": 12, \"titleFontWeight\": \"bold\"}, \"line\": {\"stroke\": \"#51C0E9\", \"strokeWidth\": 2}, \"rect\": {\"fill\": \"#51C0E9\"}, \"title\": {\"anchor\": \"start\", \"color\": \"#000000\", \"font\": \"Inter, sans-serif\", \"fontSize\": 22, \"fontWeight\": \"normal\"}}, \"data\": {\"name\": \"data-8bb83d848ff4b28bd58a39a152fbcbc1\"}, \"mark\": {\"type\": \"point\", \"tooltip\": true}, \"autosize\": {\"type\": \"fit\"}, \"encoding\": {\"color\": {\"type\": \"quantitative\", \"field\": \"bool\", \"scale\": {\"type\": \"linear\", \"zero\": false}, \"sort\": null}, \"x\": {\"type\": \"quantitative\", \"field\": \"x-axis\", \"scale\": {\"type\": \"linear\", \"zero\": false}, \"sort\": null}, \"y\": {\"type\": \"quantitative\", \"field\": \"y-axis\", \"scale\": {\"type\": \"linear\", \"zero\": false}, \"sort\": null}}, \"height\": 300, \"width\": \"container\", \"$schema\": \"https://vega.github.io/schema/vega-lite/v4.json\", \"datasets\": {\"data-8bb83d848ff4b28bd58a39a152fbcbc1\": [{\"x-axis\": 1, \"y-axis\": 0, \"bool\": 1}, {\"x-axis\": 0, \"y-axis\": 1, \"bool\": 1}, {\"x-axis\": 0, \"y-axis\": 0, \"bool\": 0}, {\"x-axis\": 1, \"y-axis\": 1, \"bool\": 0}]}}, {\"actions\": false, \"mode\": \"vega-lite\"});\n</script>",
      "text/plain": "alt.Chart(...)"
     },
     "metadata": {}
    }
   ],
   "execution_count": 246,
   "source": "_deepnote_run_altair(XOR, \"\"\"{\"$schema\":\"https://vega.github.io/schema/vega-lite/v4.json\",\"mark\":{\"type\":\"point\",\"tooltip\":true},\"height\":220,\"autosize\":{\"type\":\"fit\"},\"data\":{\"name\":\"placeholder\"},\"encoding\":{\"x\":{\"field\":\"x-axis\",\"type\":\"quantitative\",\"sort\":null,\"scale\":{\"type\":\"linear\",\"zero\":false}},\"y\":{\"field\":\"y-axis\",\"type\":\"quantitative\",\"sort\":null,\"scale\":{\"type\":\"linear\",\"zero\":false}},\"color\":{\"field\":\"bool\",\"type\":\"quantitative\",\"sort\":null,\"scale\":{\"type\":\"linear\",\"zero\":false}}}}\"\"\")"
  },
  {
   "cell_type": "code",
   "source": "X = process_x(XOR.drop(['bool'], inplace=False, axis=1))\ny = XOR[['bool']]\ny = np.array(y).reshape(len(y),)",
   "metadata": {
    "cell_id": "61a50d58933642b8a79228534cc939c5",
    "tags": [],
    "deepnote_to_be_reexecuted": false,
    "source_hash": "22745434",
    "execution_start": 1661085290339,
    "execution_millis": 6,
    "deepnote_cell_type": "code",
    "deepnote_cell_height": 112
   },
   "outputs": [],
   "execution_count": 247
  },
  {
   "cell_type": "code",
   "source": "errors = []\naccs = []\neta = 0.05\nepochs = 100\n\npred_w0 = np.random.normal()\npred_w1 = np.random.normal()\npred_b = np.random.normal()\n\nfor i in range(epochs):\n    pred_w0, pred_w1, pred_b = gradient_step(pred_w0, pred_w1, pred_b, X, y, eta)\n    y_hats, c_hats = predict_batch(pred_w0, pred_w1, pred_b, X)\n    error = calc_errors(y_hats, y)\n    acc = np.equal(c_hats, y).sum()/len(c_hats)\n    errors.append(error)\n    accs.append(acc)\n    if i % 20 == 0:\n        print(i)\n        eta /= 1.1\n        print(f'lr updated to:{eta}')",
   "metadata": {
    "cell_id": "8a6c3d9b0e474235b103fd5399e3ff92",
    "tags": [],
    "deepnote_to_be_reexecuted": false,
    "source_hash": "1001f2f5",
    "execution_start": 1661085296486,
    "execution_millis": 33,
    "deepnote_cell_type": "code",
    "deepnote_cell_height": 631
   },
   "outputs": [
    {
     "name": "stdout",
     "text": "0\nlr updated to:0.045454545454545456\n20\nlr updated to:0.04132231404958678\n40\nlr updated to:0.037565740045078885\n60\nlr updated to:0.03415067276825353\n80\nlr updated to:0.03104606615295775\n",
     "output_type": "stream"
    }
   ],
   "execution_count": 248
  },
  {
   "cell_type": "code",
   "source": "plt.plot(errors)\nplt.ylabel('Error')\nplt.xlabel('step')\nplt.show()",
   "metadata": {
    "cell_id": "f3f6dd1f8fb44e4f9b7c2a1d8fbf9b34",
    "tags": [],
    "deepnote_to_be_reexecuted": false,
    "source_hash": "224abd68",
    "execution_start": 1661085297371,
    "execution_millis": 345,
    "deepnote_cell_type": "code",
    "deepnote_cell_height": 409,
    "deepnote_output_heights": [
     263
    ]
   },
   "outputs": [
    {
     "data": {
      "text/plain": "<Figure size 432x288 with 1 Axes>",
      "image/png": "[encoded data removed]"
     },
     "metadata": {
      "needs_background": "light",
      "image/png": {
       "width": 392,
       "height": 262
      }
     },
     "output_type": "display_data"
    }
   ],
   "execution_count": 249
  },
  {
   "cell_type": "code",
   "source": "plt.plot(accs)\nplt.ylabel('Accuracy')\nplt.xlabel('step')\nplt.show()",
   "metadata": {
    "cell_id": "483de51367fc4146941b2122ef74ba7b",
    "tags": [],
    "deepnote_to_be_reexecuted": false,
    "source_hash": "70f38693",
    "execution_start": 1661085299022,
    "execution_millis": 294,
    "deepnote_cell_type": "code",
    "deepnote_cell_height": 409,
    "deepnote_output_heights": [
     263
    ]
   },
   "outputs": [
    {
     "data": {
      "text/plain": "<Figure size 432x288 with 1 Axes>",
      "image/png": "[encoded data removed]"
     },
     "metadata": {
      "needs_background": "light",
      "image/png": {
       "width": 392,
       "height": 262
      }
     },
     "output_type": "display_data"
    }
   ],
   "execution_count": 250
  },
  {
   "cell_type": "code",
   "source": "",
   "metadata": {
    "cell_id": "7f270487b3a645cbbbe6438469c6ea9a",
    "tags": [],
    "deepnote_cell_type": "code",
    "deepnote_cell_height": 61
   },
   "outputs": [],
   "execution_count": null
  },
  {
   "cell_type": "markdown",
   "source": "<a style='text-decoration:none;line-height:16px;display:flex;color:#5B5B62;padding:10px;justify-content:end;' href='https://deepnote.com?utm_source=created-in-deepnote-cell&projectId=02575d8b-6aba-4808-bd13-66c094e81e0e' target=\"_blank\">\n<img alt='Created in deepnote.com' style='display:inline;max-height:16px;margin:0px;margin-right:7.5px;' src='data:image/svg+xml;base64,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' > </img>\nCreated in <span style='font-weight:600;margin-left:4px;'>Deepnote</span></a>",
   "metadata": {
    "tags": [],
    "created_in_deepnote_cell": true,
    "deepnote_cell_type": "markdown"
   }
  }
 ],
 "nbformat": 4,
 "nbformat_minor": 2,
 "metadata": {
  "orig_nbformat": 2,
  "deepnote": {},
  "deepnote_notebook_id": "0acb3615-b68e-4976-ae41-923278bd18b4",
  "deepnote_execution_queue": []
 }
}